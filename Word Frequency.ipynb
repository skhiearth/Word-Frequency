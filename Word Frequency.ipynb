{
 "cells": [
  {
   "attachments": {},
   "cell_type": "markdown",
   "metadata": {},
   "source": [
    "# Word Frequency\n",
    "\n",
    "Analysing the word frequency in documents and books off Project Gutenberg.\n",
    "\n",
    "GitHub Repository: https://github.com/skhiearth/Word-Frequency\n",
    "\n",
    "(https://www.google.com/url?sa=i&rct=j&q=&esrc=s&source=images&cd=&cad=rja&uact=8&ved=2ahUKEwjho9WTvszmAhVFeH0KHWncBw4QjRx6BAgBEAQ&url=http%3A%2F%2Frobslink.com%2FSAS%2Fdemocd82%2Fword_frequency.htm&psig=AOvVaw3jVeTTAXT9f8LO36WgJlgs&ust=1577215057571983![image.png](attachment:image.png)\n",
    "\n",
    "#### The goal is to plot the most frequent words in any text document or book published on the website of Project Gutenberg, a library of over 60,000 free eBooks. The pipeline implemented can be easily extended to any free document or book published on the internet."
   ]
  },
  {
   "cell_type": "markdown",
   "metadata": {},
   "source": [
    "### The steps we would be following are:\n",
    "1. Using the **requests** package in Python to get the raw data of the document.\n",
    "2. Parsing the data using the **BeautifulSoup** package.\n",
    "3. Using regex in **NLTK** to tokenize and removing stopwords in the document, keeping only relevant words.\n",
    "4. Plotting the word frequencies using **nltk.FreqDist** method."
   ]
  },
  {
   "cell_type": "code",
   "execution_count": 2,
   "metadata": {
    "collapsed": true
   },
   "outputs": [],
   "source": [
    "# Importing the required libraries\n",
    "import pandas as pd\n",
    "import numpy as np\n",
    "import requests\n",
    "from bs4 import BeautifulSoup\n",
    "import string\n",
    "import re\n",
    "import nltk"
   ]
  },
  {
   "cell_type": "code",
   "execution_count": null,
   "metadata": {
    "collapsed": true
   },
   "outputs": [],
   "source": []
  }
 ],
 "metadata": {
  "kernelspec": {
   "display_name": "Python 3",
   "language": "python",
   "name": "python3"
  },
  "language_info": {
   "codemirror_mode": {
    "name": "ipython",
    "version": 3
   },
   "file_extension": ".py",
   "mimetype": "text/x-python",
   "name": "python",
   "nbconvert_exporter": "python",
   "pygments_lexer": "ipython3",
   "version": "3.5.4"
  }
 },
 "nbformat": 4,
 "nbformat_minor": 2
}
