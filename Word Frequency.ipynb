{
 "cells": [
  {
   "attachments": {},
   "cell_type": "markdown",
   "metadata": {},
   "source": [
    "# Word Frequency\n",
    "\n",
    "Analysing the word frequency in documents and books off Project Gutenberg.\n",
    "\n",
    "GitHub Repository: https://github.com/skhiearth/Word-Frequency\n",
    "\n",
    "<img src=\"http://robslink.com/SAS/democd82/word_frequency.png\" \n",
    "alt=\"Word Frequency\" width=\"300\" height=\"200\" border=\"5\" /></a>\n",
    "\n",
    "Ever heard about the Ziph's Law? Well, there is a pretty famous [Vsauce video](https://www.youtube.com/watch?v=fCn8zs912OE) on it. \n",
    "\n",
    "#### The goal is to plot the most frequent words in any text document or book published on the website of Project Gutenberg, a library of over 60,000 free eBooks. The pipeline implemented can be easily extended to any free document or book published on the internet."
   ]
  },
  {
   "cell_type": "markdown",
   "metadata": {},
   "source": [
    "### The steps we would be following are:\n",
    "1. Using the **requests** package in Python to get the raw data of the document.\n",
    "2. Parsing the data using the **BeautifulSoup** package.\n",
    "3. Using regex in **NLTK** to tokenize and removing stopwords in the document, keeping only relevant words.\n",
    "4. Plotting the word frequencies using **nltk.FreqDist** method."
   ]
  },
  {
   "cell_type": "code",
   "execution_count": 2,
   "metadata": {
    "collapsed": true
   },
   "outputs": [],
   "source": [
    "# Importing the required libraries\n",
    "import pandas as pd\n",
    "import numpy as np\n",
    "import requests\n",
    "from bs4 import BeautifulSoup\n",
    "import string\n",
    "import re\n",
    "import nltk"
   ]
  },
  {
   "cell_type": "code",
   "execution_count": null,
   "metadata": {
    "collapsed": true
   },
   "outputs": [],
   "source": []
  }
 ],
 "metadata": {
  "kernelspec": {
   "display_name": "Python 3",
   "language": "python",
   "name": "python3"
  },
  "language_info": {
   "codemirror_mode": {
    "name": "ipython",
    "version": 3
   },
   "file_extension": ".py",
   "mimetype": "text/x-python",
   "name": "python",
   "nbconvert_exporter": "python",
   "pygments_lexer": "ipython3",
   "version": "3.5.4"
  }
 },
 "nbformat": 4,
 "nbformat_minor": 2
}
